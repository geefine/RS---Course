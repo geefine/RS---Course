{
 "cells": [
  {
   "cell_type": "markdown",
   "metadata": {},
   "source": [
    "#  Stochastic Gradient Descent"
   ]
  },
  {
   "cell_type": "code",
   "execution_count": 1,
   "metadata": {},
   "outputs": [],
   "source": [
    "# -*- coding: utf-8 -*-\n",
    "\"\"\"\n",
    "Created on Sun Apr 19 10:22:34 2020\n",
    "\n",
    "@author: Jeff King\n",
    "\"\"\"\n",
    "#Importing necessary Libraries\n",
    "import numpy as np\n",
    "import matplotlib.pyplot as plt\n",
    "import random\n",
    "import datetime"
   ]
  },
  {
   "cell_type": "markdown",
   "metadata": {},
   "source": [
    "# Function for Batch gradient Descent"
   ]
  },
  {
   "cell_type": "code",
   "execution_count": 2,
   "metadata": {},
   "outputs": [],
   "source": [
    "def bgd(samples, y, step_size=0.01, max_iteration_count=10000):\n",
    "    \"\"\"\n",
    "    Batch Gradient Descent\n",
    "    :param samples \n",
    "    :param y: result\n",
    "    :param step_size: The step size of each successive iteration\n",
    "    :param max_iteration_count: Maximum number of iterations\n",
    "    :return:\n",
    "    \"\"\"\n",
    "    sample_num, dimension = samples.shape\n",
    "    w = np.ones((dimension,1), dtype=np.float32)\n",
    "    loss_collection = []\n",
    "    loss = 1\n",
    "    iteration_count = 0\n",
    "    # Iteration occurs when loss is greater than the threshold and the number of iterations is less than the maximum number of iterations\n",
    "    while loss > 0.001 and iteration_count < max_iteration_count:\n",
    "        loss = 0\n",
    "        gradient = np.zeros((dimension,1), dtype=np.float32)\n",
    "        #  Calculate the gradient\n",
    "        for i in range(sample_num):\n",
    "            predict_y = np.dot(w.T, samples[i])\n",
    "            for j in range(dimension):\n",
    "                gradient[j] += (predict_y - y[i]) * samples[i][j]\n",
    "        #  Update Weights\n",
    "        for j in range(dimension):\n",
    "            w[j] -= step_size * gradient[j]\n",
    "        #  Calculate the current loss value\n",
    "        for i in range(sample_num):\n",
    "            predict_y = np.dot(w.T, samples[i])\n",
    "            loss += np.power((predict_y - y[i]), 2)\n",
    "        #  Store loss in a linked list for picture \n",
    "        loss_collection.append(loss)\n",
    "        iteration_count += 1\n",
    "    return w,loss_collection"
   ]
  },
  {
   "cell_type": "markdown",
   "metadata": {},
   "source": [
    "# Function for Stochastic Gradient Descent"
   ]
  },
  {
   "cell_type": "code",
   "execution_count": 3,
   "metadata": {},
   "outputs": [],
   "source": [
    "def sgd(samples, y, step_size=0.001, max_iteration_count=10000):\n",
    "    \"\"\"\n",
    "    Stochastic Gradient Descent\n",
    "    :param samples: \n",
    "    :param y: \n",
    "    :param step_size: \n",
    "    :param max_iteration_count: \n",
    "    :return:\n",
    "    \"\"\"\n",
    "    sample_num, dimension = samples.shape\n",
    "    w = np.ones((dimension,1), dtype=np.float32)\n",
    "    loss_collection = []\n",
    "    loss = 1\n",
    "    iteration_count = 0\n",
    "    while loss > 0.001 and iteration_count < max_iteration_count:\n",
    "        loss = 0\n",
    "        gradient = np.zeros((dimension,1), dtype=np.float32)\n",
    "        #  Unlike BGD, you take a random sample and update the weight\n",
    "        sample_index = random.randint(0, sample_num-1)\n",
    "        predict_y = np.dot(w.T, samples[sample_index])\n",
    "        for j in range(dimension):\n",
    "            gradient[j] += (predict_y - y[sample_index]) * samples[sample_index][j]\n",
    "            w[j] -= step_size * gradient[j]\n",
    "\n",
    "        for i in range(sample_num):\n",
    "            predict_y = np.dot(w.T, samples[i])\n",
    "            loss += np.power((predict_y - y[i]), 2)\n",
    "\n",
    "        loss_collection.append(loss)\n",
    "        iteration_count += 1\n",
    "    return w,loss_collection"
   ]
  },
  {
   "cell_type": "markdown",
   "metadata": {},
   "source": [
    "# Main function "
   ]
  },
  {
   "cell_type": "code",
   "execution_count": 4,
   "metadata": {},
   "outputs": [
    {
     "name": "stdout",
     "output_type": "stream",
     "text": [
      "bgd_w: [[2.8636951]\n",
      " [4.5708055]]\n",
      "bgd predict_y: [[12.00530624 28.58141804 18.88928127 20.59639168]]\n",
      "bgd_time: 0.113706 s\n",
      "sgd_w: [[2.9145029]\n",
      " [4.5240803]]\n",
      "sgd predict_y: [[11.96266341 28.4494071  19.09659457 20.70617199]]\n",
      "sgd_time: 0.057833 s\n"
     ]
    },
    {
     "data": {
      "image/png": "[encoded data removed]",
      "text/plain": [
       "<Figure size 432x288 with 1 Axes>"
      ]
     },
     "metadata": {
      "needs_background": "light"
     },
     "output_type": "display_data"
    }
   ],
   "source": [
    "if __name__ == '__main__':\n",
    "    samples = np.array([[1,2,5,4],\n",
    "                        [2,5,1,2]]).T\n",
    "    y = np.array([19,26,19,20]).reshape((4,1))\n",
    "    #  current time\n",
    "    time = datetime.datetime.now();\n",
    "    bgd_w,bgd_loss_collection = bgd(samples, y, 0.001, 1000)\n",
    "    # The time after BGD\n",
    "    time_afterBGD = datetime.datetime.now();\n",
    "    sgd_w,sgd_loss_collection = sgd(samples, y, 0.001, 1000)\n",
    "    #  After SGD\n",
    "    time_afterSGD = datetime.datetime.now();\n",
    "    # Draw loss picture\n",
    "    epochs = range(1, len(bgd_loss_collection)+1)\n",
    "    plt.plot(epochs, bgd_loss_collection, 'b', label='BGD loss')\n",
    "    plt.plot(epochs, sgd_loss_collection, 'r', label='SGD loss')\n",
    "    plt.title('GD and SGD loss')\n",
    "    plt.legend()\n",
    "    plt.savefig('GD and SGD loss.png',dpi = 300)\n",
    "    #  Print the results\n",
    "    print('bgd_w:',bgd_w)\n",
    "    print('bgd predict_y:',np.dot(bgd_w.T, samples.T))\n",
    "    print('bgd_time:',(time_afterBGD-time).total_seconds(),'s')\n",
    "    print('sgd_w:',sgd_w)\n",
    "    print('sgd predict_y:',np.dot(sgd_w.T, samples.T))\n",
    "    print('sgd_time:',(time_afterSGD-time_afterBGD).total_seconds(),'s')\n"
   ]
  },
  {
   "cell_type": "code",
   "execution_count": null,
   "metadata": {},
   "outputs": [],
   "source": [
    "\n",
    "NISHITH RANJAN BISWAS    BL0869399\n",
    "KAIMUZZAMAN   BR0549256\n",
    "ADITI GHOSH   BM0828576\n",
    "MUBEEN AFZAL  GS1512621"
   ]
  }
 ],
 "metadata": {
  "kernelspec": {
   "display_name": "Python 3",
   "language": "python",
   "name": "python3"
  },
  "language_info": {
   "codemirror_mode": {
    "name": "ipython",
    "version": 3
   },
   "file_extension": ".py",
   "mimetype": "text/x-python",
   "name": "python",
   "nbconvert_exporter": "python",
   "pygments_lexer": "ipython3",
   "version": "3.7.3"
  }
 },
 "nbformat": 4,
 "nbformat_minor": 2
}
