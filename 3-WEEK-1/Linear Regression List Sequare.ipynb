{
 "cells": [
  {
   "cell_type": "code",
   "execution_count": 3,
   "metadata": {},
   "outputs": [
    {
     "name": "stdout",
     "output_type": "stream",
     "text": [
      "numerator: 20.0 denominator: 4.0\n",
      "Line is:y =  5x + 10\n"
     ]
    },
    {
     "data": {
      "image/png": "[encoded data removed]",
      "text/plain": [
       "<Figure size 432x288 with 1 Axes>"
      ]
     },
     "metadata": {
      "needs_background": "light"
     },
     "output_type": "display_data"
    }
   ],
   "source": [
    "import numpy as np\n",
    "from matplotlib import pylab as pl\n",
    "\n",
    "#Defining training data\n",
    "x = np.array([1,3,2,1,3])\n",
    "y = np.array([14,24,18,17,27])\n",
    "# The regression equation takes the function\n",
    "def fit(x,y):\n",
    "    if len(x) != len(y):\n",
    "        return\n",
    "    numerator = 0.0\n",
    "    denominator = 0.0\n",
    "    x_mean = np.mean(x)\n",
    "    y_mean = np.mean(y)\n",
    "    for i in range(len(x)):\n",
    "        numerator += (x[i]-x_mean)*(y[i]-y_mean)\n",
    "        denominator += np.square((x[i]-x_mean))\n",
    "    print('numerator:',numerator,'denominator:',denominator)\n",
    "    b0 = numerator/denominator\n",
    "    b1 = y_mean - b0*x_mean\n",
    "    return b0,b1\n",
    "# Define prediction function\n",
    "def predit(x,b0,b1):\n",
    "    return b0*x + b1\n",
    "# Find the regression equation\n",
    "b0,b1 = fit(x,y)\n",
    "print('Line is:y = %2.0fx + %2.0f'%(b0,b1))\n",
    "# prediction\n",
    "x_test = np.array([0.5,1.5,2.5,3,4])\n",
    "y_test = np.zeros((1,len(x_test)))\n",
    "for i in range(len(x_test)):\n",
    "    y_test[0][i] = predit(x_test[i],b0,b1)\n",
    "# Drawing figure\n",
    "xx = np.linspace(0, 5)\n",
    "yy = b0*xx + b1\n",
    "pl.plot(xx,yy,'k-')\n",
    "pl.scatter(x,y,cmap=pl.cm.Paired)\n",
    "pl.scatter(x_test,y_test[0],cmap=pl.cm.Paired)\n",
    "pl.show()"
   ]
  },
  {
   "cell_type": "code",
   "execution_count": null,
   "metadata": {},
   "outputs": [],
   "source": []
  },
  {
   "cell_type": "code",
   "execution_count": null,
   "metadata": {},
   "outputs": [],
   "source": []
  }
 ],
 "metadata": {
  "kernelspec": {
   "display_name": "Python 3",
   "language": "python",
   "name": "python3"
  },
  "language_info": {
   "codemirror_mode": {
    "name": "ipython",
    "version": 3
   },
   "file_extension": ".py",
   "mimetype": "text/x-python",
   "name": "python",
   "nbconvert_exporter": "python",
   "pygments_lexer": "ipython3",
   "version": "3.7.3"
  }
 },
 "nbformat": 4,
 "nbformat_minor": 2
}
